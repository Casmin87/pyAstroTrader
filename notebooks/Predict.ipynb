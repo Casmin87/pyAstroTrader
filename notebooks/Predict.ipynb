{
 "cells": [
  {
   "cell_type": "markdown",
   "metadata": {},
   "source": [
    "# pyAstroTrader\n",
    "\n",
    "## Predict\n",
    "\n",
    "This notebook is used to predict the future behaviour of the stock prices in the market, using the models created in the ```CreateModel.ipynb``` notebook\n",
    "\n",
    "First, we need to import the modules that we are going to use:"
   ]
  },
  {
   "cell_type": "code",
   "execution_count": null,
   "metadata": {},
   "outputs": [],
   "source": [
    "import os\n",
    "import pandas as pd\n",
    "import dask.dataframe as dd\n",
    "import numpy as np\n",
    "import datetime\n",
    "import plotly.graph_objects as go\n",
    "\n",
    "from sklearn.model_selection import KFold\n",
    "from sklearn.model_selection import train_test_split as ttsplit\n",
    "from sklearn.metrics import mean_squared_error as mse\n",
    "\n",
    "import xgboost as xgb\n",
    "from xgboost import XGBClassifier\n",
    "from xgboost import plot_importance\n",
    "from xgboost import plot_tree\n",
    "\n",
    "from IPython.display import display, HTML\n",
    "\n",
    "import eli5\n",
    "\n",
    "from pyastrotrader import calculate_chart, calculate_aspects, calculate_transits\n",
    "from pyastrotrader.utils import create_input_json\n",
    "from pyastrotrader.constants import *\n",
    "\n",
    "from settings import *\n",
    "from helpers import *"
   ]
  },
  {
   "cell_type": "markdown",
   "metadata": {},
   "source": [
    "We need only to create the dates that we are going to predict as specified in the DAYS_TO_PREDICT configuration variable from settings.py, we will create a list of dictionaries with the correct column name"
   ]
  },
  {
   "cell_type": "code",
   "execution_count": null,
   "metadata": {},
   "outputs": [],
   "source": [
    "today = datetime.datetime.now().date() + datetime.timedelta(days=+1)\n",
    "days_to_process = []\n",
    "data_to_dataframe = []\n",
    "day = today\n",
    "for day_to_predict in range(DAYS_TO_PREDICT):\n",
    "    day = day + datetime.timedelta(days=1)\n",
    "    if day.weekday()==5 or day.weekday()==6:\n",
    "        continue\n",
    "    day_as_str = day.strftime('%Y-%m-%d')\n",
    "    days_to_process.append(day_as_str)\n",
    "    data_to_dataframe.append({ 'CorrectedDate' : day_as_str})   \n",
    "    "
   ]
  },
  {
   "cell_type": "markdown",
   "metadata": {},
   "source": [
    "With the list of dictionaries, we can use the pandas dataframe constructor to create a dataframe with the dates."
   ]
  },
  {
   "cell_type": "code",
   "execution_count": null,
   "metadata": {},
   "outputs": [],
   "source": [
    "StockPrices = pd.DataFrame(data_to_dataframe)"
   ]
  },
  {
   "cell_type": "markdown",
   "metadata": {},
   "source": [
    "As we did on the ```CreateModel.ipynb``` notebook, we need to create the natal chart of the selected asset."
   ]
  },
  {
   "cell_type": "code",
   "execution_count": null,
   "metadata": {},
   "outputs": [],
   "source": [
    "asset_natal_chart_input = create_input_json(NATAL_DATE, \n",
    "                                            DEFAULT_PARAMETERS, \n",
    "                                            DEFAULT_CONFIG)\n",
    "\n",
    "asset_natal_chart = calculate_chart(asset_natal_chart_input)\n",
    "dates_to_generate = days_to_process"
   ]
  },
  {
   "cell_type": "markdown",
   "metadata": {},
   "source": [
    "Now, for all the dates on the pandas dataframe containing the quotes, we need to generate astrological charts with the list of planets to consider: ```PLANETS_TO_CALCULATE```, their aspects: ```ASPECTS_TO_CALCULATE```"
   ]
  },
  {
   "cell_type": "code",
   "execution_count": null,
   "metadata": {},
   "outputs": [],
   "source": [
    "for current_date in dates_to_generate:\n",
    "    chart_input = create_input_json(current_date + 'T10:00:00-03:00', \n",
    "                                      DEFAULT_PARAMETERS, \n",
    "                                      DEFAULT_CONFIG)\n",
    "    charts[current_date] = calculate_chart(chart_input)\n",
    "    aspects[current_date] = calculate_transits(asset_natal_chart, charts[current_date], PLANETS_TO_CALCULATE, ASPECTS_TO_CALCULATE, 4)\n",
    "    aspects_transiting[current_date]= calculate_aspects(charts[current_date], PLANETS_TO_CALCULATE, ASPECTS_TO_CALCULATE, 4)   "
   ]
  },
  {
   "cell_type": "markdown",
   "metadata": {},
   "source": [
    "We have the natal chart and also all the charts for each date in the pandas dataframe, now we need to add to the pandas dataframe, the astrological aspects that occur in each date, we will set only to 1 if there is a aspect occuring or 0 if not, we also will check for aspects on the transiting chart as well as aspects between the natal chart and the transiting chart\n",
    "\n",
    "**astro_columns** will indicate the name of the columns containing astrological indicators in the pandas dataframe"
   ]
  },
  {
   "cell_type": "code",
   "execution_count": null,
   "metadata": {},
   "outputs": [],
   "source": [
    "astro_columns = []\n",
    "\n",
    "for current_planet in PLANETS_TO_CALCULATE:\n",
    "    column_name=\"ASTRO_{}_POSITION\".format(PLANETS[current_planet]).upper()\n",
    "    StockPricesDask = dd.from_pandas(StockPrices, npartitions=NPARTITIONS)\n",
    "    StockPrices[column_name] = StockPricesDask.map_partitions(lambda df : df.apply(lambda x : int(get_degree_for_planet(x, current_planet)), axis =1), meta='int').compute(scheduler='processes')\n",
    "    StockPrices[column_name] = pd.to_numeric(StockPrices[column_name],  downcast='float', errors='coerce')   \n",
    "    astro_columns.append(column_name)   \n",
    "    for second_planet in PLANETS_TO_CALCULATE:\n",
    "        if current_planet == second_planet:\n",
    "            continue\n",
    "        column_name=\"ASTRO_{}_{}_DIFF\".format(PLANETS[current_planet], PLANETS[second_planet]).upper()\n",
    "        StockPricesDask = dd.from_pandas(StockPrices, npartitions=NPARTITIONS)\n",
    "        StockPrices[column_name] = StockPricesDask.map_partitions(lambda df : df.apply(lambda x : abs(int(get_degree_for_planet(x, current_planet) - get_degree_for_planet(x, second_planet))), axis =1), meta='int').compute(scheduler='processes')\n",
    "        StockPrices[column_name] = pd.to_numeric(StockPrices[column_name],  downcast='float', errors='coerce')   \n",
    "        astro_columns.append(column_name)   \n",
    "        \n",
    "\n",
    "for first_planet in PLANETS_TO_CALCULATE:\n",
    "    for second_planet in PLANETS_TO_CALCULATE:\n",
    "        for aspect in ASPECTS_TO_CALCULATE:\n",
    "            column_name=\"ASTRO_{}_{}_{}\".format(PLANETS[first_planet],ASPECT_NAME[aspect],PLANETS[second_planet]).upper()\n",
    "            aspect_column_name = column_name\n",
    "            astro_columns.append(column_name)\n",
    "            StockPricesDask = dd.from_pandas(StockPrices, npartitions=NPARTITIONS)\n",
    "            StockPrices[column_name] = StockPricesDask.map_partitions(lambda df : df.apply(lambda x : is_aspected(x, first_planet, second_planet, aspect), axis =1), meta='float').compute(scheduler='processes')\n",
    "            StockPrices[column_name] = pd.to_numeric(StockPrices[column_name],  downcast='float', errors='coerce')\n",
    "\n",
    "            StockPricesDask = dd.from_pandas(StockPrices, npartitions=NPARTITIONS)\n",
    "            column_name=\"ASTRO_TRANSITING_{}_{}_{}\".format(PLANETS[first_planet],ASPECT_NAME[aspect],PLANETS[second_planet]).upper()\n",
    "            astro_columns.append(column_name)\n",
    "            StockPrices[column_name] = StockPricesDask.map_partitions(lambda df : df.apply(lambda x : is_aspected_transiting(x, first_planet, second_planet, aspect), axis =1), meta='float').compute(scheduler='processes')\n",
    "            StockPrices[column_name] = pd.to_numeric(StockPrices[column_name],  downcast='float', errors='coerce')                 \n",
    "\n"
   ]
  },
  {
   "cell_type": "markdown",
   "metadata": {},
   "source": [
    "We need also to determine which planets are retrograde in each date of the pandas dataframe"
   ]
  },
  {
   "cell_type": "code",
   "execution_count": null,
   "metadata": {},
   "outputs": [],
   "source": [
    "for first_planet in []:\n",
    "    column_name=\"ASTRO_{}_RETROGADE\".format(PLANETS[first_planet]).upper()\n",
    "    astro_columns.append(column_name)\n",
    "    StockPrices[column_name] = StockPrices.apply(lambda x:is_retrograde(x, first_planet), axis =1)\n",
    "    StockPrices[column_name] = pd.to_numeric(StockPrices[column_name],  downcast='float',errors='coerce')"
   ]
  },
  {
   "cell_type": "markdown",
   "metadata": {},
   "source": [
    "We need to load the models, which were generated from the ```CreateModel.ipynb``` notebook"
   ]
  },
  {
   "cell_type": "code",
   "execution_count": null,
   "metadata": {},
   "outputs": [],
   "source": [
    "booster_price_change = xgb.Booster()\n",
    "\n",
    "price_change_model_filename = './output/{}_price_change.model'.format(ASSET_TO_CALCULATE)\n",
    "\n",
    "booster_price_change.load_model(price_change_model_filename)  # load data"
   ]
  },
  {
   "cell_type": "markdown",
   "metadata": {},
   "source": [
    "And now, predict the values, using the models created in ```CreateModel.ipynb``` notebook"
   ]
  },
  {
   "cell_type": "markdown",
   "metadata": {},
   "source": [
    "As we dont need all the columns from the pandas dataframe, we can specify the target variables and the date as the only one that are necessary..."
   ]
  },
  {
   "cell_type": "markdown",
   "metadata": {},
   "source": [
    "And now save the results in 2 excel files: 1 simplified and another with the entire data."
   ]
  },
  {
   "cell_type": "code",
   "execution_count": null,
   "metadata": {},
   "outputs": [],
   "source": [
    "output_excel_file='./output/{}.Predict.xlsx'.format(ASSET_TO_CALCULATE)\n",
    "StockPrices.to_excel(output_excel_file)"
   ]
  },
  {
   "cell_type": "code",
   "execution_count": null,
   "metadata": {},
   "outputs": [],
   "source": [
    "output_excel_file='./output/{}.Predict.Simplified.xls'.format(ASSET_TO_CALCULATE)\n",
    "CalculatedValue = StockPrices.apply(lambda x:predict_score(x, booster_price_change, StockPrices, astro_columns), axis =1)\n",
    "\n",
    "if not os.path.isfile(output_excel_file):\n",
    "    SimplifiedColumns = ['CorrectedDate', \n",
    "                         'PredictPriceChange' ]    \n",
    "    StockPrices['PredictPriceChange'] = CalculatedValue\n",
    "    StockPrices[SimplifiedColumns].to_excel(output_excel_file)\n",
    "else:\n",
    "    column = datetime.datetime.strftime(datetime.datetime.today(), '%Y%m%d%H%M%S') + 'PredictPriceChange'\n",
    "    StockPrices = pd.read_excel(output_excel_file)\n",
    "    StockPrices[column] = CalculatedValue\n",
    "    StockPrices.to_excel(output_excel_file, index=False)\n",
    "    \n",
    "    "
   ]
  },
  {
   "cell_type": "code",
   "execution_count": null,
   "metadata": {},
   "outputs": [],
   "source": []
  }
 ],
 "metadata": {
  "kernelspec": {
   "display_name": "Python 3",
   "language": "python",
   "name": "python3"
  },
  "language_info": {
   "codemirror_mode": {
    "name": "ipython",
    "version": 3
   },
   "file_extension": ".py",
   "mimetype": "text/x-python",
   "name": "python",
   "nbconvert_exporter": "python",
   "pygments_lexer": "ipython3",
   "version": "3.8.1"
  }
 },
 "nbformat": 4,
 "nbformat_minor": 4
}
