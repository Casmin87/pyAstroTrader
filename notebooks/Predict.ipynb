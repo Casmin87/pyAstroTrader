{
 "cells": [
  {
   "cell_type": "code",
   "execution_count": null,
   "metadata": {},
   "outputs": [],
   "source": [
    "import os\n",
    "import pandas as pd\n",
    "import numpy as np\n",
    "import datetime\n",
    "import plotly.graph_objects as go\n",
    "\n",
    "from sklearn.model_selection import KFold\n",
    "from sklearn.model_selection import train_test_split as ttsplit\n",
    "from sklearn.metrics import mean_squared_error as mse\n",
    "\n",
    "import xgboost as xgb\n",
    "from xgboost import XGBClassifier\n",
    "from xgboost import plot_importance\n",
    "from xgboost import plot_tree\n",
    "\n",
    "from IPython.display import display, HTML\n",
    "\n",
    "import eli5\n",
    "\n",
    "from pyastrotrader import calculate_chart, calculate_aspects, calculate_transits\n",
    "from pyastrotrader.utils import create_input_json\n",
    "from pyastrotrader.constants import *\n",
    "\n",
    "from settings import *\n",
    "from helpers import *"
   ]
  },
  {
   "cell_type": "code",
   "execution_count": null,
   "metadata": {},
   "outputs": [],
   "source": [
    "today = datetime.datetime.now().date()\n",
    "days_to_process = []\n",
    "data_to_dataframe = []\n",
    "day = today\n",
    "for day_to_predict in range(DAYS_TO_PREDICT):\n",
    "    day = day + datetime.timedelta(days=1)\n",
    "    day_as_str = day.strftime('%Y-%m-%d')\n",
    "    days_to_process.append(day_as_str)\n",
    "    data_to_dataframe.append({ 'CorrectedDate' : day_as_str})\n",
    "    \n",
    "    "
   ]
  },
  {
   "cell_type": "code",
   "execution_count": null,
   "metadata": {},
   "outputs": [],
   "source": [
    "StockPrices = pd.DataFrame(data_to_dataframe)"
   ]
  },
  {
   "cell_type": "code",
   "execution_count": null,
   "metadata": {},
   "outputs": [],
   "source": [
    "asset_natal_chart_input = create_input_json(NATAL_DATE, \n",
    "                                            DEFAULT_PARAMETERS, \n",
    "                                            DEFAULT_CONFIG)\n",
    "\n",
    "asset_natal_chart = calculate_chart(asset_natal_chart_input)\n",
    "dates_to_generate = days_to_process"
   ]
  },
  {
   "cell_type": "code",
   "execution_count": null,
   "metadata": {},
   "outputs": [],
   "source": [
    "for current_date in dates_to_generate:\n",
    "    chart_input = create_input_json(current_date + 'T10:00:00-03:00', \n",
    "                                      DEFAULT_PARAMETERS, \n",
    "                                      DEFAULT_CONFIG)\n",
    "    charts[current_date] = calculate_chart(chart_input)\n",
    "    aspects[current_date] = calculate_transits(asset_natal_chart, charts[current_date], PLANETS_TO_CALCULATE, ASPECTS_TO_CALCULATE, 4)\n",
    "    aspects_transiting[current_date]= calculate_aspects(charts[current_date], PLANETS_TO_CALCULATE, ASPECTS_TO_CALCULATE, 4)   "
   ]
  },
  {
   "cell_type": "code",
   "execution_count": null,
   "metadata": {},
   "outputs": [],
   "source": [
    "astro_columns = []\n",
    "\n",
    "for first_planet in PLANETS_TO_CALCULATE:\n",
    "    for second_planet in PLANETS_TO_CALCULATE:\n",
    "        for aspect in ASPECTS_TO_CALCULATE:\n",
    "            column_name=\"ASTRO_{}_{}_{}\".format(PLANETS[first_planet],ASPECT_NAME[aspect],PLANETS[second_planet]).upper()\n",
    "            astro_columns.append(column_name)\n",
    "            StockPrices[column_name] = StockPrices.apply(lambda x:is_aspected(x, first_planet, second_planet, aspect), axis =1)\n",
    "            StockPrices[column_name] = pd.to_numeric(StockPrices[column_name],  downcast='float', errors='coerce')\n",
    "            \n",
    "            if first_planet == second_planet:\n",
    "                continue\n",
    "                \n",
    "            column_name=\"ASTRO_TRANSITING_{}_{}_{}\".format(PLANETS[first_planet],ASPECT_NAME[aspect],PLANETS[second_planet]).upper()\n",
    "            astro_columns.append(column_name)\n",
    "            StockPrices[column_name] = StockPrices.apply(lambda x:is_aspected_transiting(x, first_planet, second_planet, aspect), axis =1)\n",
    "            StockPrices[column_name] = pd.to_numeric(StockPrices[column_name],  downcast='float', errors='coerce')                 "
   ]
  },
  {
   "cell_type": "code",
   "execution_count": null,
   "metadata": {},
   "outputs": [],
   "source": [
    "for first_planet in PLANETS_TO_CALCULATE:\n",
    "    column_name=\"ASTRO_{}_RETROGADE\".format(PLANETS[first_planet]).upper()\n",
    "    astro_columns.append(column_name)\n",
    "    StockPrices[column_name] = StockPrices.apply(lambda x:is_retrograde(x, first_planet), axis =1)\n",
    "    StockPrices[column_name] = pd.to_numeric(StockPrices[column_name],  downcast='float',errors='coerce')"
   ]
  },
  {
   "cell_type": "code",
   "execution_count": null,
   "metadata": {},
   "outputs": [],
   "source": [
    "booster_swing_trade = xgb.Booster()\n",
    "booster_price_increase = xgb.Booster()\n",
    "booster_price_decrease = xgb.Booster()\n",
    "booster_price_stagnation = xgb.Booster()\n",
    "\n",
    "swing_trade_model_filename = './output/{}_swing_trade.model'.format(ASSET_TO_CALCULATE)\n",
    "price_increase_model_filename = './output/{}_price_increase.model'.format(ASSET_TO_CALCULATE)\n",
    "price_decrease_model_filename = './output/{}_price_decrease.model'.format(ASSET_TO_CALCULATE)\n",
    "price_stagnation_model_filename = './output/{}_price_stagnation.model'.format(ASSET_TO_CALCULATE)\n",
    "\n",
    "booster_swing_trade.load_model(swing_trade_model_filename)  # load data\n",
    "booster_price_increase.load_model(price_increase_model_filename)  # load data\n",
    "booster_price_decrease.load_model(price_decrease_model_filename)  # load data\n",
    "booster_price_stagnation.load_model(price_stagnation_model_filename)  # load data"
   ]
  },
  {
   "cell_type": "code",
   "execution_count": null,
   "metadata": {},
   "outputs": [],
   "source": [
    "StockPrices['PredictSwingTradeScore'] = StockPrices.apply(lambda x:predict_score(x, booster_swing_trade, StockPrices, astro_columns), axis =1)\n",
    "StockPrices['PredictPriceIncreaseScore'] = StockPrices.apply(lambda x:predict_score(x, booster_price_increase, StockPrices, astro_columns), axis =1)\n",
    "StockPrices['PredictPriceDecreaseScore'] = StockPrices.apply(lambda x:predict_score(x, booster_price_decrease, StockPrices, astro_columns), axis =1)\n",
    "StockPrices['PredictPriceStagnation'] = StockPrices.apply(lambda x:predict_score(x, booster_price_stagnation, StockPrices, astro_columns), axis =1)"
   ]
  },
  {
   "cell_type": "code",
   "execution_count": null,
   "metadata": {},
   "outputs": [],
   "source": [
    "SimplifiedColumns = ['CorrectedDate', 'PredictSwingTradeScore', 'PredictPriceIncreaseScore','PredictPriceDecreaseScore','PredictPriceStagnation']\n",
    "#SimplifiedColumns"
   ]
  },
  {
   "cell_type": "code",
   "execution_count": null,
   "metadata": {},
   "outputs": [],
   "source": [
    "output_excel_file='./output/{}.Predict.xlsx'.format(ASSET_TO_CALCULATE)\n",
    "StockPrices.to_excel(output_excel_file)\n",
    "\n",
    "output_excel_file='./output/{}.Predict.Simplified.xlsx'.format(ASSET_TO_CALCULATE)\n",
    "StockPrices[SimplifiedColumns].to_excel(output_excel_file)"
   ]
  }
 ],
 "metadata": {
  "kernelspec": {
   "display_name": "Python 3",
   "language": "python",
   "name": "python3"
  },
  "language_info": {
   "codemirror_mode": {
    "name": "ipython",
    "version": 3
   },
   "file_extension": ".py",
   "mimetype": "text/x-python",
   "name": "python",
   "nbconvert_exporter": "python",
   "pygments_lexer": "ipython3",
   "version": "3.7.4"
  }
 },
 "nbformat": 4,
 "nbformat_minor": 4
}
