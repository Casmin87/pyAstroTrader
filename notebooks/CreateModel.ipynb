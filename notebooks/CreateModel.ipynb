{
 "cells": [
  {
   "cell_type": "code",
   "execution_count": null,
   "metadata": {},
   "outputs": [],
   "source": [
    "import os\n",
    "import pandas as pd\n",
    "import numpy as np\n",
    "import plotly.graph_objects as go\n",
    "\n",
    "from sklearn.model_selection import KFold\n",
    "from sklearn.model_selection import train_test_split as ttsplit\n",
    "from sklearn.metrics import mean_squared_error as mse\n",
    "\n",
    "import xgboost as xgb\n",
    "from xgboost import XGBClassifier\n",
    "from xgboost import plot_importance\n",
    "from xgboost import plot_tree\n",
    "\n",
    "from IPython.display import display, HTML\n",
    "\n",
    "import eli5\n",
    "\n",
    "from pyastrotrader import calculate_chart, calculate_aspects, calculate_transits\n",
    "from pyastrotrader.utils import create_input_json\n",
    "from pyastrotrader.constants import *\n",
    "\n",
    "from settings import *\n",
    "from helpers import *"
   ]
  },
  {
   "cell_type": "code",
   "execution_count": null,
   "metadata": {},
   "outputs": [],
   "source": [
    "StockPrices = pd.read_csv(\"{}.csv\".format(SOURCE_FILE))\n",
    "StockPrices['Counter'] = np.arange(len(StockPrices))"
   ]
  },
  {
   "cell_type": "code",
   "execution_count": null,
   "metadata": {},
   "outputs": [],
   "source": [
    "max_counter = StockPrices['Counter'].max()\n",
    "\n",
    "StockPrices['CorrectedDate'] = StockPrices.apply( lambda x :  correct_date(x), axis =1 )\n",
    "StockPrices['PreviousStartPrice'] = StockPrices.apply( lambda x :  get_previous_stock_price(StockPrices, x, SWING_TRADE_DURATION), axis =1 )\n",
    "StockPrices['FutureFinalPrice'] = StockPrices.apply( lambda x :  get_future_stock_price(StockPrices, x, max_counter, SWING_TRADE_DURATION), axis =1 )\n",
    "StockPrices['PreviousStartDate'] = StockPrices.apply( lambda x :  get_previous_stock_date(StockPrices, x, SWING_TRADE_DURATION), axis =1 )\n",
    "StockPrices['FutureFinalDate'] = StockPrices.apply( lambda x :  get_future_stock_date(StockPrices, x, max_counter, SWING_TRADE_DURATION), axis =1 )\n",
    "\n",
    "StockPrices['CurrentTrend'] = StockPrices.apply(lambda x : calculate_current_trend(x), axis = 1)\n",
    "\n",
    "StockPrices['FutureTrend'] = StockPrices.apply(lambda x : calculate_future_trend(x), axis = 1)\n",
    "StockPrices['SwingStrength'] = StockPrices.apply(lambda x: calculate_swing_strenght(x), axis =1)\n",
    "StockPrices['IntradayVolatility'] = StockPrices.apply(lambda x: calculate_intraday_volatility(StockPrices, x, SWING_TRADE_DURATION), axis =1)\n",
    "\n",
    "StockPrices['FutureTrendMax'] = StockPrices.apply(lambda x : get_future_stock_max_price(StockPrices, x, max_counter, SWING_TRADE_DURATION), axis = 1)\n",
    "StockPrices['FutureTrendMin'] = StockPrices.apply(lambda x : get_future_stock_min_price(StockPrices, x, max_counter, SWING_TRADE_DURATION), axis = 1)\n",
    "\n",
    "StockPrices['IsSwing'] = StockPrices.apply(lambda x: detect_swing_trade(x, SWING_EXPECTED_VOLATILITY), axis =1)\n",
    "StockPrices['IsSwing'] = StockPrices.apply(lambda x:clean_swing_trade(StockPrices, x, SWING_EXPECTED_VOLATILITY), axis =1)\n",
    "\n",
    "StockPrices['StockIncreasedPrice'] = StockPrices.apply(lambda x:detect_price_increase(x, STAGNATION_THRESHOLD), axis =1)\n",
    "\n",
    "StockPrices['StockDecreasedPrice'] = StockPrices.apply(lambda x:detect_price_decrease(x, STAGNATION_THRESHOLD), axis =1)\n",
    "\n",
    "StockPrices['StockStagnated'] = StockPrices.apply(lambda x:detect_price_stagnated(x, STAGNATION_THRESHOLD), axis =1)\n",
    "\n",
    "StockPrices['TARGET_IS_SWING'] = StockPrices['IsSwing']\n",
    "StockPrices['TARGET_PRICE_INCREASE'] = StockPrices['StockIncreasedPrice']\n",
    "StockPrices['TARGET_PRICE_DECREASE'] = StockPrices['StockDecreasedPrice']\n",
    "StockPrices['TARGET_PRICE_STAGNATION'] = StockPrices['StockStagnated']"
   ]
  },
  {
   "cell_type": "code",
   "execution_count": null,
   "metadata": {},
   "outputs": [],
   "source": [
    "output_excel_file='./output/{}.Analisys.xlsx'.format(ASSET_TO_CALCULATE)\n",
    "StockPrices.to_excel(output_excel_file)"
   ]
  },
  {
   "cell_type": "code",
   "execution_count": null,
   "metadata": {},
   "outputs": [],
   "source": [
    "#StockPrices[StockPrices['IsSwing'] == 1].sort_values(by=['Date'], ascending=[0]).head(20)"
   ]
  },
  {
   "cell_type": "code",
   "execution_count": null,
   "metadata": {},
   "outputs": [],
   "source": [
    "#StockPrices[StockPrices['StockIncreasedPrice'] == 1].sort_values(by=['Date'], ascending=[0]).head(20)"
   ]
  },
  {
   "cell_type": "code",
   "execution_count": null,
   "metadata": {},
   "outputs": [],
   "source": [
    "#StockPrices[StockPrices['StockDecreasedPrice'] == 1].sort_values(by=['Date'], ascending=[0]).head(20)"
   ]
  },
  {
   "cell_type": "code",
   "execution_count": null,
   "metadata": {},
   "outputs": [],
   "source": [
    "swing_to_chart = []\n",
    "for index, current_swing in StockPrices[StockPrices['IsSwing'] == 1].iterrows():\n",
    "    swing_to_chart.append(dict(\n",
    "        x0=current_swing['CorrectedDate'], \n",
    "        x1=current_swing['CorrectedDate'], \n",
    "        y0=0, \n",
    "        y1=1, \n",
    "        xref='x', \n",
    "        yref='paper',\n",
    "        line_width=2))\n"
   ]
  },
  {
   "cell_type": "code",
   "execution_count": null,
   "metadata": {},
   "outputs": [],
   "source": [
    "fig = go.Figure(data=[go.Candlestick(\n",
    "                x=StockPrices['CorrectedDate'],\n",
    "                open=StockPrices['Open'],\n",
    "                high=StockPrices['High'],\n",
    "                low=StockPrices['Low'],\n",
    "                close=StockPrices['Price'])])\n",
    "fig.update_layout(\n",
    "    title=\"{} Detected Swing Trade Opportunities\".format(ASSET_TO_CALCULATE),\n",
    "    width=1000,\n",
    "    height=500,\n",
    "    xaxis_rangeslider_visible=False,\n",
    "    shapes=swing_to_chart,\n",
    "    margin=go.layout.Margin(\n",
    "        l=0,\n",
    "        r=0,\n",
    "        b=0,\n",
    "        t=30,\n",
    "        pad=4\n",
    "    ),    \n",
    ")\n",
    "fig.show()"
   ]
  },
  {
   "cell_type": "code",
   "execution_count": null,
   "metadata": {},
   "outputs": [],
   "source": [
    "asset_natal_chart_input = create_input_json(NATAL_DATE, \n",
    "                                            DEFAULT_PARAMETERS, \n",
    "                                            DEFAULT_CONFIG)\n",
    "\n",
    "asset_natal_chart = calculate_chart(asset_natal_chart_input)\n",
    "dates_to_generate = list(StockPrices['CorrectedDate'])"
   ]
  },
  {
   "cell_type": "code",
   "execution_count": null,
   "metadata": {},
   "outputs": [],
   "source": [
    "for current_date in dates_to_generate:\n",
    "    chart_input = create_input_json(current_date + 'T10:00:00-03:00', \n",
    "                                      DEFAULT_PARAMETERS, \n",
    "                                      DEFAULT_CONFIG)\n",
    "    charts[current_date] = calculate_chart(chart_input)\n",
    "    aspects[current_date] = calculate_transits(asset_natal_chart, charts[current_date], PLANETS_TO_CALCULATE, ASPECTS_TO_CALCULATE, 4)\n",
    "    aspects_transiting[current_date]= calculate_aspects(charts[current_date], PLANETS_TO_CALCULATE, ASPECTS_TO_CALCULATE, 4)   "
   ]
  },
  {
   "cell_type": "code",
   "execution_count": null,
   "metadata": {},
   "outputs": [],
   "source": [
    "astro_columns = []\n",
    "\n",
    "for first_planet in PLANETS_TO_CALCULATE:\n",
    "    for second_planet in PLANETS_TO_CALCULATE:\n",
    "        for aspect in ASPECTS_TO_CALCULATE:\n",
    "            column_name=\"ASTRO_{}_{}_{}\".format(PLANETS[first_planet],ASPECT_NAME[aspect],PLANETS[second_planet]).upper()\n",
    "            astro_columns.append(column_name)\n",
    "            StockPrices['StockIncreasedPrice'] = StockPrices.apply(lambda x:detect_price_increase(x, STAGNATION_THRESHOLD), axis =1)\n",
    "            StockPrices[column_name] = StockPrices.apply(lambda x:is_aspected(x, first_planet, second_planet, aspect), axis =1)\n",
    "            StockPrices[column_name] = pd.to_numeric(StockPrices[column_name],  downcast='float', errors='coerce')\n",
    "            \n",
    "            if first_planet == second_planet:\n",
    "                continue\n",
    "                \n",
    "            column_name=\"ASTRO_TRANSITING_{}_{}_{}\".format(PLANETS[first_planet],ASPECT_NAME[aspect],PLANETS[second_planet]).upper()\n",
    "            astro_columns.append(column_name)\n",
    "            StockPrices[column_name] = StockPrices.apply(lambda x:is_aspected_transiting(x, first_planet, second_planet, aspect), axis =1)\n",
    "            StockPrices[column_name] = pd.to_numeric(StockPrices[column_name],  downcast='float', errors='coerce')                 "
   ]
  },
  {
   "cell_type": "code",
   "execution_count": null,
   "metadata": {},
   "outputs": [],
   "source": [
    "for first_planet in PLANETS_TO_CALCULATE:\n",
    "    column_name=\"ASTRO_{}_RETROGADE\".format(PLANETS[first_planet]).upper()\n",
    "    astro_columns.append(column_name)\n",
    "    StockPrices[column_name] = StockPrices.apply(lambda x:is_retrograde(x, first_planet), axis =1)\n",
    "    StockPrices[column_name] = pd.to_numeric(StockPrices[column_name],  downcast='float',errors='coerce')"
   ]
  },
  {
   "cell_type": "code",
   "execution_count": null,
   "metadata": {},
   "outputs": [],
   "source": [
    "booster_price_increase, score_price_increase = get_best_booster('TARGET_PRICE_INCREASE', MAX_INTERACTIONS, StockPrices, astro_columns)\n",
    "print(\"Best Score for Price Increase Model:{}\".format(score_price_increase))\n",
    "\n",
    "booster_price_decrease, score_price_decrease = get_best_booster('TARGET_PRICE_DECREASE', MAX_INTERACTIONS, StockPrices, astro_columns)\n",
    "print(\"Best Score for Price Decrease Model:{}\".format(score_price_decrease))\n",
    "\n",
    "booster_price_stagnation, score_price_stagnation = get_best_booster('TARGET_PRICE_STAGNATION', MAX_INTERACTIONS, StockPrices, astro_columns)\n",
    "print(\"Best Score for Price Stagnation Model:{}\".format(score_price_stagnation))\n",
    "\n",
    "booster_swing_trade, score_swing_trade = get_best_booster('TARGET_IS_SWING', MAX_INTERACTIONS, StockPrices, astro_columns)\n",
    "print(\"Best Score for Swing Trade Model:{}\".format(score_swing_trade))"
   ]
  },
  {
   "cell_type": "code",
   "execution_count": null,
   "metadata": {},
   "outputs": [],
   "source": [
    "relevant_features_swing_trade = sorted( ((v,k) for k,v in booster_swing_trade.get_score().items()), reverse=True)\n",
    "relevant_features_price_increase = sorted( ((v,k) for k,v in booster_price_increase.get_score().items()), reverse=True)\n",
    "relevant_features_price_decrease = sorted( ((v,k) for k,v in booster_price_decrease.get_score().items()), reverse=True)\n",
    "relevant_features_price_stagnation = sorted( ((v,k) for k,v in booster_price_stagnation.get_score().items()), reverse=True)\n",
    "\n",
    "display(relevant_features_swing_trade)\n",
    "display(relevant_features_price_increase)"
   ]
  },
  {
   "cell_type": "code",
   "execution_count": null,
   "metadata": {},
   "outputs": [],
   "source": [
    "StockPrices['PredictSwingTradeScore'] = StockPrices.apply(lambda x:predict_score(x, booster_swing_trade, StockPrices, astro_columns), axis =1)\n",
    "StockPrices['PredictPriceIncreaseScore'] = StockPrices.apply(lambda x:predict_score(x, booster_price_increase, StockPrices, astro_columns), axis =1)\n",
    "StockPrices['PredictPriceDecreaseScore'] = StockPrices.apply(lambda x:predict_score(x, booster_price_decrease, StockPrices, astro_columns), axis =1)\n",
    "StockPrices['PredictPriceStagnation'] = StockPrices.apply(lambda x:predict_score(x, booster_price_stagnation, StockPrices, astro_columns), axis =1)"
   ]
  },
  {
   "cell_type": "code",
   "execution_count": null,
   "metadata": {},
   "outputs": [],
   "source": [
    "booster_swing_trade.save_model('./output/{}_swing_trade.model'.format(ASSET_TO_CALCULATE))\n",
    "booster_price_increase.save_model('./output/{}_price_increase.model'.format(ASSET_TO_CALCULATE))\n",
    "booster_price_decrease.save_model('./output/{}_price_decrease.model'.format(ASSET_TO_CALCULATE))\n",
    "booster_price_stagnation.save_model('./output/{}_price_stagnation.model'.format(ASSET_TO_CALCULATE))"
   ]
  },
  {
   "cell_type": "code",
   "execution_count": null,
   "metadata": {},
   "outputs": [],
   "source": [
    "swing_to_chart = []\n",
    "for index, current_swing in StockPrices[StockPrices['PredictSwingTradeScore'] > 0.9].iterrows():\n",
    "    swing_to_chart.append(dict(\n",
    "        x0=current_swing['CorrectedDate'], \n",
    "        x1=current_swing['CorrectedDate'], \n",
    "        y0=0, \n",
    "        y1=1, \n",
    "        xref='x', \n",
    "        yref='paper',\n",
    "        line_width=2))"
   ]
  },
  {
   "cell_type": "code",
   "execution_count": null,
   "metadata": {},
   "outputs": [],
   "source": [
    "fig = go.Figure(data=[go.Candlestick(\n",
    "                x=StockPrices['CorrectedDate'],\n",
    "                open=StockPrices['Open'],\n",
    "                high=StockPrices['High'],\n",
    "                low=StockPrices['Low'],\n",
    "                close=StockPrices['Price'])])\n",
    "fig.update_layout(\n",
    "    title=\"{} Swing Trade Opportunities detected by XGBoost\".format(ASSET_TO_CALCULATE),\n",
    "    width=1000,\n",
    "    height=500,\n",
    "    xaxis_rangeslider_visible=False,\n",
    "    shapes=swing_to_chart,\n",
    "    margin=go.layout.Margin(\n",
    "        l=0,\n",
    "        r=0,\n",
    "        b=0,\n",
    "        t=30,\n",
    "        pad=4\n",
    "    ),    \n",
    ")\n",
    "fig.show()"
   ]
  },
  {
   "cell_type": "code",
   "execution_count": null,
   "metadata": {},
   "outputs": [],
   "source": [
    "swing_to_chart = []\n",
    "for index, current_swing in StockPrices[StockPrices['PredictPriceIncreaseScore'] > 5].iterrows():\n",
    "    swing_to_chart.append(dict(\n",
    "        x0=current_swing['CorrectedDate'], \n",
    "        x1=current_swing['CorrectedDate'], \n",
    "        y0=0, \n",
    "        y1=1, \n",
    "        xref='x', \n",
    "        yref='paper',\n",
    "        line_width=2))"
   ]
  },
  {
   "cell_type": "code",
   "execution_count": null,
   "metadata": {},
   "outputs": [],
   "source": [
    "fig = go.Figure(data=[go.Candlestick(\n",
    "                x=StockPrices['CorrectedDate'],\n",
    "                open=StockPrices['Open'],\n",
    "                high=StockPrices['High'],\n",
    "                low=StockPrices['Low'],\n",
    "                close=StockPrices['Price'])])\n",
    "fig.update_layout(\n",
    "    title=\"{} Price Increase Opportunities detected by XGBoost (Min {}%)\".format(ASSET_TO_CALCULATE, STAGNATION_THRESHOLD),\n",
    "    width=1000,\n",
    "    height=500,\n",
    "    xaxis_rangeslider_visible=False,\n",
    "    shapes=swing_to_chart,\n",
    "    margin=go.layout.Margin(\n",
    "        l=0,\n",
    "        r=0,\n",
    "        b=0,\n",
    "        t=30,\n",
    "        pad=4\n",
    "    ),    \n",
    ")\n",
    "fig.show()"
   ]
  },
  {
   "cell_type": "code",
   "execution_count": null,
   "metadata": {},
   "outputs": [],
   "source": [
    "output_excel_file='./output/{}.Analisys.xlsx'.format(ASSET_TO_CALCULATE)\n",
    "StockPrices.to_excel(output_excel_file)"
   ]
  },
  {
   "cell_type": "code",
   "execution_count": null,
   "metadata": {},
   "outputs": [],
   "source": []
  }
 ],
 "metadata": {
  "kernelspec": {
   "display_name": "Python 3",
   "language": "python",
   "name": "python3"
  },
  "language_info": {
   "codemirror_mode": {
    "name": "ipython",
    "version": 3
   },
   "file_extension": ".py",
   "mimetype": "text/x-python",
   "name": "python",
   "nbconvert_exporter": "python",
   "pygments_lexer": "ipython3",
   "version": "3.7.4"
  }
 },
 "nbformat": 4,
 "nbformat_minor": 4
}
