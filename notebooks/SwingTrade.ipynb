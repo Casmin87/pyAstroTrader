{
 "cells": [
  {
   "cell_type": "code",
   "execution_count": null,
   "metadata": {},
   "outputs": [],
   "source": [
    "import pandas as pd\n",
    "import numpy as np\n",
    "import plotly.graph_objects as go\n",
    "\n",
    "from sklearn.model_selection import KFold\n",
    "import xgboost as xgb\n",
    "from xgboost import XGBClassifier\n",
    "from xgboost import plot_importance\n",
    "from xgboost import plot_tree\n",
    "\n",
    "from pyastrotrader import calculate_chart, calculate_aspects, calculate_transits\n",
    "from pyastrotrader.utils import create_input_json\n",
    "from pyastrotrader.constants import *"
   ]
  },
  {
   "cell_type": "code",
   "execution_count": null,
   "metadata": {},
   "outputs": [],
   "source": [
    "SWING_TRADE_DURATION = 5\n",
    "SWING_EXPECTED_VOLATILITY = 5\n",
    "STAGNATION_THRESHOLD = 3\n",
    "SOURCE_FILE = \"./input/PETR4_Daily\""
   ]
  },
  {
   "cell_type": "code",
   "execution_count": null,
   "metadata": {},
   "outputs": [],
   "source": [
    "StockPrices = pd.read_csv(\"{}.csv\".format(SOURCE_FILE))\n",
    "StockPrices['Counter'] = np.arange(len(StockPrices))"
   ]
  },
  {
   "cell_type": "code",
   "execution_count": null,
   "metadata": {},
   "outputs": [],
   "source": [
    "def correct_date(x):\n",
    "    date_str = str(x['Date'])\n",
    "    return date_str[0:4] + '-' + date_str[4:6] + '-' + date_str[6:8]    \n",
    "\n",
    "def change_sign(x,y):\n",
    "    return  not ((x > 0 and y > 0) or (x < 0 and y < 0))"
   ]
  },
  {
   "cell_type": "code",
   "execution_count": null,
   "metadata": {},
   "outputs": [],
   "source": [
    "def get_previous_stock_price(df, x):\n",
    "    if x['Counter'] > (SWING_TRADE_DURATION - 1):\n",
    "        return float(df[df['Counter'] == (x['Counter'] - SWING_TRADE_DURATION)]['Price'])\n",
    "    else:\n",
    "        return 0\n",
    "\n",
    "def get_future_stock_price(df, x, max):\n",
    "    if x['Counter'] < (max - SWING_TRADE_DURATION):\n",
    "        return float(df[df['Counter'] == (x['Counter'] + SWING_TRADE_DURATION)]['Price'])\n",
    "    else:\n",
    "        return 0    \n",
    "    \n",
    "def calculate_current_trend(x):\n",
    "    if x['PreviousStartPrice'] > 0:\n",
    "        return ((float(x['Price']) / float(x['PreviousStartPrice'])) - 1) * 100\n",
    "    else:\n",
    "        return 0;\n",
    "\n",
    "def get_previous_stock_date(df, x):\n",
    "    if x['Counter'] > (SWING_TRADE_DURATION - 1):\n",
    "        return float(df[df['Counter'] == (x['Counter'] - SWING_TRADE_DURATION)]['Date'])\n",
    "    else:\n",
    "        return 0\n",
    "\n",
    "def get_future_stock_date(df, x, max):\n",
    "    if x['Counter'] < (max - SWING_TRADE_DURATION):\n",
    "        return float(df[df['Counter'] == (x['Counter'] + SWING_TRADE_DURATION)]['Date'])\n",
    "    else:\n",
    "        return 0    \n",
    "\n",
    "def calculate_future_trend(x):\n",
    "    if x['FutureFinalPrice'] > 0:\n",
    "        return ((float(x['FutureFinalPrice']) / float(x['Price'])) - 1) * 100\n",
    "    else:\n",
    "        return 0;\n",
    "\n",
    "def calculate_intraday_volatility(df, x):\n",
    "    current_range = df[df['Counter'] >= (x['Counter'] - (SWING_TRADE_DURATION * 2))]\n",
    "    current_range = current_range[current_range['Counter'] < x['Counter']]\n",
    "    return (((current_range['High'] / current_range['Low']) - 1).sum() / (SWING_TRADE_DURATION * 2)) * 100"
   ]
  },
  {
   "cell_type": "code",
   "execution_count": null,
   "metadata": {},
   "outputs": [],
   "source": [
    "def calculate_swing_strenght(x):\n",
    "    if float(x['CurrentTrend']) != 0 and float(x['FutureTrend'] != 0):\n",
    "        return abs(float(x['CurrentTrend']) - float(x['FutureTrend']))\n",
    "    else:\n",
    "        return 0\n",
    "\n",
    "def is_swing_trade(x):\n",
    "    return 1 if change_sign(x['FutureTrend'], x['CurrentTrend']) and \\\n",
    "                x['SwingStrength'] > (x['IntradayVolatility'] * SWING_EXPECTED_VOLATILITY) and \\\n",
    "                abs(x['FutureTrend']) >= abs(x['CurrentTrend']) else 0\n",
    "\n",
    "def clean_swing_trade(df, x):\n",
    "    if x['IsSwing'] == 1:\n",
    "        current_range = df[df['Counter'] <= (x['Counter'] + SWING_TRADE_DURATION)]\n",
    "        current_range = current_range[current_range['Counter'] > x['Counter']]\n",
    "        if current_range['IsSwing'].sum() > 0:\n",
    "            return 0\n",
    "        else:\n",
    "            return 1\n",
    "    else:\n",
    "        return 0\n",
    "    \n",
    "def detect_price_increase(x):\n",
    "    return 1 if abs(x['FutureTrend']) >= (x['IntradayVolatility'] * STAGNATION_THRESHOLD) and x['FutureTrend'] > 0 else 0\n",
    "\n",
    "def detect_price_decrease(x):\n",
    "    return 1 if abs(x['FutureTrend']) >= (x['IntradayVolatility'] * STAGNATION_THRESHOLD) and x['FutureTrend'] < 0 else 0\n",
    "\n",
    "def detect_price_stagnated(x):\n",
    "    return 0 if abs(x['FutureTrend']) >= (x['IntradayVolatility'] * STAGNATION_THRESHOLD) else 1"
   ]
  },
  {
   "cell_type": "code",
   "execution_count": null,
   "metadata": {},
   "outputs": [],
   "source": [
    "max_counter = StockPrices['Counter'].max()\n",
    "\n",
    "StockPrices['CorrectedDate'] = StockPrices.apply( lambda x :  correct_date(x), axis =1 )\n",
    "StockPrices['PreviousStartPrice'] = StockPrices.apply( lambda x :  get_previous_stock_price(StockPrices, x), axis =1 )\n",
    "StockPrices['FutureFinalPrice'] = StockPrices.apply( lambda x :  get_future_stock_price(StockPrices, x, max_counter), axis =1 )\n",
    "StockPrices['PreviousStartDate'] = StockPrices.apply( lambda x :  get_previous_stock_date(StockPrices, x), axis =1 )\n",
    "StockPrices['FutureFinalDate'] = StockPrices.apply( lambda x :  get_future_stock_date(StockPrices, x, max_counter), axis =1 )\n",
    "\n",
    "StockPrices['CurrentTrend'] = StockPrices.apply(lambda x : calculate_current_trend(x), axis = 1)\n",
    "\n",
    "StockPrices['FutureTrend'] = StockPrices.apply(lambda x : calculate_future_trend(x), axis = 1)\n",
    "StockPrices['SwingStrength'] = StockPrices.apply(lambda x: calculate_swing_strenght(x), axis =1)\n",
    "StockPrices['IntradayVolatility'] = StockPrices.apply(lambda x: calculate_intraday_volatility(StockPrices, x), axis =1)\n",
    "\n",
    "StockPrices['IsSwing'] = StockPrices.apply(lambda x: is_swing_trade(x), axis =1)\n",
    "StockPrices['IsSwing'] = StockPrices.apply(lambda x:clean_swing_trade(StockPrices, x), axis =1)\n",
    "\n",
    "StockPrices['StockIncreasedPrice'] = StockPrices.apply(lambda x:detect_price_increase(x), axis =1)\n",
    "StockPrices['StockDecreasedPrice'] = StockPrices.apply(lambda x:detect_price_decrease(x), axis =1)\n",
    "StockPrices['StockStagnated'] = StockPrices.apply(lambda x:detect_price_stagnated(x), axis =1)\n",
    "\n",
    "StockPrices['TARGET_IS_SWING'] = StockPrices['IsSwing']"
   ]
  },
  {
   "cell_type": "code",
   "execution_count": null,
   "metadata": {},
   "outputs": [],
   "source": [
    "#StockPrices[StockPrices['IsSwing'] == 1].sort_values(by=['Date'], ascending=[0]).head(20)"
   ]
  },
  {
   "cell_type": "code",
   "execution_count": null,
   "metadata": {},
   "outputs": [],
   "source": [
    "#StockPrices[StockPrices['StockIncreasedPrice'] == 1].sort_values(by=['Date'], ascending=[0]).head(20)"
   ]
  },
  {
   "cell_type": "code",
   "execution_count": null,
   "metadata": {},
   "outputs": [],
   "source": [
    "#StockPrices[StockPrices['StockDecreasedPrice'] == 1].sort_values(by=['Date'], ascending=[0]).head(20)"
   ]
  },
  {
   "cell_type": "code",
   "execution_count": null,
   "metadata": {},
   "outputs": [],
   "source": [
    "fig = go.Figure(data=[go.Candlestick(x=StockPrices['CorrectedDate'],\n",
    "                open=StockPrices['Open'],\n",
    "                high=StockPrices['High'],\n",
    "                low=StockPrices['Low'],\n",
    "                close=StockPrices['Price'])])\n",
    "fig.update_layout(xaxis_rangeslider_visible=False)\n",
    "fig.show()"
   ]
  },
  {
   "cell_type": "code",
   "execution_count": null,
   "metadata": {},
   "outputs": [],
   "source": [
    "petr4_natal_chart_input = create_input_json('1953-10-03T19:05:00-03:00', \n",
    "                                      './config/default_parameters.json', \n",
    "                                      './config/default_config.json')\n",
    "\n",
    "petr4_natal_chart = calculate_chart(petr4_natal_chart_input)\n",
    "dates_to_generate = list(StockPrices['CorrectedDate'])\n",
    "\n",
    "planets = [SUN,MOON,SATURN]\n",
    "aspects = [CONJUNCTION, SQUARE, TRINE, OPPOSITION]\n",
    "\n",
    "charts = {}\n",
    "transits = {}\n",
    "\n",
    "for current_date in dates_to_generate:\n",
    "    chart_input = create_input_json(current_date + 'T10:00:00-03:00', \n",
    "                                      './config/default_parameters.json', \n",
    "                                      './config/default_config.json')\n",
    "    charts[current_date] = calculate_chart(chart_input)\n",
    "    transits[current_date] = calculate_transits(petr4_natal_chart, charts[current_date], planets, aspects, 4)    "
   ]
  },
  {
   "cell_type": "code",
   "execution_count": null,
   "metadata": {},
   "outputs": [],
   "source": [
    "def is_aspected(row, first_planet, second_planet, aspect):\n",
    "    c_transits = transits[row['CorrectedDate']]\n",
    "    found_params = [x for x in c_transits if (x['c_planet'] == first_planet and x['n_planet'] == second_planet and x['c_aspect'] == aspect) or \\\n",
    "                                           (x['n_planet'] == first_planet and x['c_planet'] == second_planet and x['c_aspect'] == aspect) ]\n",
    "    return 1 if len(found_params) > 0 else 0"
   ]
  },
  {
   "cell_type": "code",
   "execution_count": null,
   "metadata": {},
   "outputs": [],
   "source": [
    "astro_columns = []\n",
    "\n",
    "for first_planet in planets:\n",
    "    for second_planet in planets:\n",
    "        for aspect in aspects:\n",
    "            column_name=\"ASTRO_{}_{}_{}\".format(PLANETS[first_planet],ASPECT_NAME[aspect],PLANETS[second_planet]).upper()\n",
    "            astro_columns.append(column_name)\n",
    "            StockPrices['StockIncreasedPrice'] = StockPrices.apply(lambda x:detect_price_increase(x), axis =1)\n",
    "            StockPrices[column_name] = StockPrices.apply(lambda x:is_aspected(x, first_planet, second_planet, aspect), axis =1)"
   ]
  },
  {
   "cell_type": "code",
   "execution_count": null,
   "metadata": {},
   "outputs": [],
   "source": [
    "output_excel_file='./output/PETR4.Analisys.xlsx'\n",
    "StockPrices.to_excel(output_excel_file)"
   ]
  },
  {
   "cell_type": "code",
   "execution_count": null,
   "metadata": {},
   "outputs": [],
   "source": [
    "def create_booster_swing_trade(eta,depth,num_trees, train_x, train_y, test_x, test_y, columns):\n",
    "    param = {}\n",
    "    param['booster'] = 'gbtree'\n",
    "    param['eta'] = eta\n",
    "    param['objective'] = 'binary:logistic'\n",
    "    param['eval_metric'] = 'auc'\n",
    "    param['tree_method'] = 'auto'\n",
    "    param['silent'] = 0\n",
    "    param['max_depth'] = depth\n",
    "    param['subsample'] = 0.5\n",
    "    num_round = num_trees\n",
    "    dtrain = xgb.DMatrix(train_x, train_y, feature_names = columns)\n",
    "    dtest = xgb.DMatrix(test_x, test_y, feature_names = columns)\n",
    "    train_labels = dtrain.get_label()\n",
    "    ratio = float(np.sum(train_labels == 0)) / np.sum(train_labels == 1) \n",
    "    param['scale_pos_weight'] = ratio\n",
    "    gpu_res = {}\n",
    "    booster = xgb.train(param, dtrain, num_round, evals_result=gpu_res, evals = [])    \n",
    "    return booster, dtrain, dtest"
   ]
  },
  {
   "cell_type": "code",
   "execution_count": null,
   "metadata": {},
   "outputs": [],
   "source": [
    "X = StockPrices[astro_columns].values\n",
    "Y = StockPrices['TARGET_IS_SWING'].values\n",
    "\n",
    "booster, dtrain, dtest = create_booster_swing_trade(0.3, 7, 30, X, Y, X, Y, astro_columns)\n",
    "relevant_features = sorted( ((v,k) for k,v in booster.get_score().items()), reverse=True)\n",
    "relevant_features"
   ]
  },
  {
   "cell_type": "code",
   "execution_count": null,
   "metadata": {},
   "outputs": [],
   "source": []
  },
  {
   "cell_type": "code",
   "execution_count": null,
   "metadata": {},
   "outputs": [],
   "source": []
  }
 ],
 "metadata": {
  "kernelspec": {
   "display_name": "Python 3",
   "language": "python",
   "name": "python3"
  },
  "language_info": {
   "codemirror_mode": {
    "name": "ipython",
    "version": 3
   },
   "file_extension": ".py",
   "mimetype": "text/x-python",
   "name": "python",
   "nbconvert_exporter": "python",
   "pygments_lexer": "ipython3",
   "version": "3.7.4"
  }
 },
 "nbformat": 4,
 "nbformat_minor": 4
}
