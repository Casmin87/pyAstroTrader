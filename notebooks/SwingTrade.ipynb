{
 "cells": [
  {
   "cell_type": "code",
   "execution_count": null,
   "metadata": {},
   "outputs": [],
   "source": [
    "import pandas as pd\n",
    "import numpy as np\n",
    "import plotly.graph_objects as go"
   ]
  },
  {
   "cell_type": "code",
   "execution_count": null,
   "metadata": {},
   "outputs": [],
   "source": [
    "SWING_TRADE_DURATION = 5\n",
    "SOURCE_FILE = \"./input/PETR4_Daily\""
   ]
  },
  {
   "cell_type": "code",
   "execution_count": null,
   "metadata": {},
   "outputs": [],
   "source": [
    "StockPrices = pd.read_csv(\"{}.csv\".format(SOURCE_FILE))\n",
    "StockPrices['Counter'] = np.arange(len(StockPrices))"
   ]
  },
  {
   "cell_type": "code",
   "execution_count": null,
   "metadata": {},
   "outputs": [],
   "source": [
    "def get_previous_stock_price(df, x):\n",
    "    if x['Counter'] > (SWING_TRADE_DURATION - 1):\n",
    "        return float(df[df['Counter'] == (x['Counter'] - SWING_TRADE_DURATION)]['Price'])\n",
    "    else:\n",
    "        return 0\n",
    "\n",
    "def calculate_current_trend(x):\n",
    "    if x['PreviousStartPrice'] > 0:\n",
    "        return ((float(x['Price']) / float(x['PreviousStartPrice'])) - 1) * 100\n",
    "    else:\n",
    "        return 0;\n",
    "\n",
    "def get_future_stock_price(df, x, max):\n",
    "    if x['Counter'] < (max - SWING_TRADE_DURATION):\n",
    "        return float(df[df['Counter'] == (x['Counter'] + SWING_TRADE_DURATION)]['Price'])\n",
    "    else:\n",
    "        return 0\n",
    "\n",
    "def calculate_future_trend(x):\n",
    "    if x['FutureFinalPrice'] > 0:\n",
    "        return ((float(x['Price']) / float(x['FutureFinalPrice'])) - 1) * 100\n",
    "    else:\n",
    "        return 0;\n",
    "\n",
    "def calculate_swing_strenght(x):\n",
    "    if float(x['CurrentTrend']) != 0 and float(x['FutureTrend'] != 0):\n",
    "        return abs(float(x['CurrentTrend']) - float(x['FutureTrend']))\n",
    "    else:\n",
    "        return 0\n",
    "    \n",
    "def correct_date(x):\n",
    "    date_str = str(x['Date'])\n",
    "    return date_str[0:4] + '-' + date_str[4:6] + '-' + date_str[6:8]    "
   ]
  },
  {
   "cell_type": "code",
   "execution_count": null,
   "metadata": {},
   "outputs": [],
   "source": [
    "max_counter = StockPrices['Counter'].max()\n",
    "\n",
    "StockPrices['CorrectedDate'] = StockPrices.apply( lambda x :  correct_date(x), axis =1 )\n",
    "StockPrices['PreviousStartPrice'] = StockPrices.apply( lambda x :  get_previous_stock_price(StockPrices, x), axis =1 )\n",
    "StockPrices['CurrentTrend'] = StockPrices.apply(lambda x : calculate_current_trend(x), axis = 1)\n",
    "\n",
    "StockPrices['FutureFinalPrice'] = StockPrices.apply( lambda x :  get_future_stock_price(StockPrices, x, max_counter), axis =1 )\n",
    "StockPrices['FutureTrend'] = StockPrices.apply(lambda x : calculate_future_trend(x), axis = 1)\n",
    "StockPrices['SwingStrength'] = StockPrices.apply(lambda x: calculate_swing_strenght(x), axis =1)\n"
   ]
  },
  {
   "cell_type": "code",
   "execution_count": null,
   "metadata": {},
   "outputs": [],
   "source": [
    "#StockPrices[StockPrices['SwingStrength'] > 13]"
   ]
  },
  {
   "cell_type": "code",
   "execution_count": null,
   "metadata": {},
   "outputs": [],
   "source": [
    "fig = go.Figure(data=[go.Candlestick(x=StockPrices['CorrectedDate'],\n",
    "                open=StockPrices['Open'],\n",
    "                high=StockPrices['High'],\n",
    "                low=StockPrices['Low'],\n",
    "                close=StockPrices['Price'])])\n",
    "fig.update_layout(xaxis_rangeslider_visible=False)\n",
    "fig.show()"
   ]
  },
  {
   "cell_type": "code",
   "execution_count": null,
   "metadata": {},
   "outputs": [],
   "source": [
    "output_excel_file='./output/PETR4.Analisys.xlsx'\n",
    "StockPrices.to_excel(output_excel_file)"
   ]
  },
  {
   "cell_type": "code",
   "execution_count": null,
   "metadata": {},
   "outputs": [],
   "source": []
  }
 ],
 "metadata": {
  "kernelspec": {
   "display_name": "Python 3",
   "language": "python",
   "name": "python3"
  },
  "language_info": {
   "codemirror_mode": {
    "name": "ipython",
    "version": 3
   },
   "file_extension": ".py",
   "mimetype": "text/x-python",
   "name": "python",
   "nbconvert_exporter": "python",
   "pygments_lexer": "ipython3",
   "version": "3.7.4"
  }
 },
 "nbformat": 4,
 "nbformat_minor": 4
}
