{
 "cells": [
  {
   "cell_type": "code",
   "execution_count": null,
   "metadata": {},
   "outputs": [],
   "source": [
    "import pandas as pd\n",
    "import numpy as np\n",
    "import plotly.graph_objects as go"
   ]
  },
  {
   "cell_type": "code",
   "execution_count": null,
   "metadata": {},
   "outputs": [],
   "source": [
    "SWING_TRADE_DURATION = 5\n",
    "SWING_EXPECTED_VOLATILITY = 5\n",
    "SOURCE_FILE = \"./input/PETR4_Daily\""
   ]
  },
  {
   "cell_type": "code",
   "execution_count": null,
   "metadata": {},
   "outputs": [],
   "source": [
    "StockPrices = pd.read_csv(\"{}.csv\".format(SOURCE_FILE))\n",
    "StockPrices['Counter'] = np.arange(len(StockPrices))"
   ]
  },
  {
   "cell_type": "code",
   "execution_count": null,
   "metadata": {},
   "outputs": [],
   "source": [
    "def get_previous_stock_price(df, x):\n",
    "    if x['Counter'] > (SWING_TRADE_DURATION - 1):\n",
    "        return float(df[df['Counter'] == (x['Counter'] - SWING_TRADE_DURATION)]['Price'])\n",
    "    else:\n",
    "        return 0\n",
    "\n",
    "def get_future_stock_price(df, x, max):\n",
    "    if x['Counter'] < (max - SWING_TRADE_DURATION):\n",
    "        return float(df[df['Counter'] == (x['Counter'] + SWING_TRADE_DURATION)]['Price'])\n",
    "    else:\n",
    "        return 0    \n",
    "    \n",
    "def calculate_current_trend(x):\n",
    "    if x['PreviousStartPrice'] > 0:\n",
    "        return ((float(x['Price']) / float(x['PreviousStartPrice'])) - 1) * 100\n",
    "    else:\n",
    "        return 0;\n",
    "\n",
    "def get_previous_stock_date(df, x):\n",
    "    if x['Counter'] > (SWING_TRADE_DURATION - 1):\n",
    "        return float(df[df['Counter'] == (x['Counter'] - SWING_TRADE_DURATION)]['Date'])\n",
    "    else:\n",
    "        return 0\n",
    "\n",
    "def get_future_stock_date(df, x, max):\n",
    "    if x['Counter'] < (max - SWING_TRADE_DURATION):\n",
    "        return float(df[df['Counter'] == (x['Counter'] + SWING_TRADE_DURATION)]['Date'])\n",
    "    else:\n",
    "        return 0    \n",
    "    \n",
    "\n",
    "def calculate_future_trend(x):\n",
    "    if x['FutureFinalPrice'] > 0:\n",
    "        return ((float(x['FutureFinalPrice']) / float(x['Price'])) - 1) * 100\n",
    "    else:\n",
    "        return 0;\n",
    "\n",
    "def calculate_swing_strenght(x):\n",
    "    if float(x['CurrentTrend']) != 0 and float(x['FutureTrend'] != 0):\n",
    "        return abs(float(x['CurrentTrend']) - float(x['FutureTrend']))\n",
    "    else:\n",
    "        return 0\n",
    "    \n",
    "def correct_date(x):\n",
    "    date_str = str(x['Date'])\n",
    "    return date_str[0:4] + '-' + date_str[4:6] + '-' + date_str[6:8]    \n",
    "\n",
    "def calculate_intraday_volatility(df, x):\n",
    "    current_range = df[df['Counter'] >= (x['Counter'] - (SWING_TRADE_DURATION * 2))]\n",
    "    current_range = current_range[current_range['Counter'] < x['Counter']]\n",
    "    return (((current_range['High'] / current_range['Low']) - 1).sum() / (SWING_TRADE_DURATION * 2)) * 100\n",
    "\n",
    "def change_sign(x,y):\n",
    "    return  not ((x > 0 and y > 0) or (x < 0 and y < 0))\n",
    "\n",
    "def is_swing_trade(x):\n",
    "    return 1 if change_sign(x['FutureTrend'], x['CurrentTrend']) and \\\n",
    "                x['SwingStrength'] > (x['IntradayVolatility'] * SWING_EXPECTED_VOLATILITY) and \\\n",
    "                abs(x['FutureTrend']) >= abs(x['CurrentTrend']) else 0\n",
    "\n",
    "def clean_swing_trade(df, x):\n",
    "    if x['IsSwing'] == 1:\n",
    "        current_range = df[df['Counter'] <= (x['Counter'] + SWING_TRADE_DURATION)]\n",
    "        current_range = current_range[current_range['Counter'] > x['Counter']]\n",
    "        if current_range['IsSwing'].sum() > 0:\n",
    "            return 0\n",
    "        else:\n",
    "            return 1\n",
    "    else:\n",
    "        return 0\n"
   ]
  },
  {
   "cell_type": "code",
   "execution_count": null,
   "metadata": {},
   "outputs": [],
   "source": []
  },
  {
   "cell_type": "code",
   "execution_count": null,
   "metadata": {},
   "outputs": [],
   "source": [
    "max_counter = StockPrices['Counter'].max()\n",
    "\n",
    "StockPrices['CorrectedDate'] = StockPrices.apply( lambda x :  correct_date(x), axis =1 )\n",
    "StockPrices['PreviousStartPrice'] = StockPrices.apply( lambda x :  get_previous_stock_price(StockPrices, x), axis =1 )\n",
    "StockPrices['FutureFinalPrice'] = StockPrices.apply( lambda x :  get_future_stock_price(StockPrices, x, max_counter), axis =1 )\n",
    "StockPrices['PreviousStartDate'] = StockPrices.apply( lambda x :  get_previous_stock_date(StockPrices, x), axis =1 )\n",
    "StockPrices['FutureFinalDate'] = StockPrices.apply( lambda x :  get_future_stock_date(StockPrices, x, max_counter), axis =1 )\n",
    "\n",
    "StockPrices['CurrentTrend'] = StockPrices.apply(lambda x : calculate_current_trend(x), axis = 1)\n",
    "\n",
    "\n",
    "StockPrices['FutureTrend'] = StockPrices.apply(lambda x : calculate_future_trend(x), axis = 1)\n",
    "StockPrices['SwingStrength'] = StockPrices.apply(lambda x: calculate_swing_strenght(x), axis =1)\n",
    "StockPrices['IntradayVolatility'] = StockPrices.apply(lambda x: calculate_intraday_volatility(StockPrices, x), axis =1)\n",
    "\n",
    "StockPrices['IsSwing'] = StockPrices.apply(lambda x: is_swing_trade(x), axis =1)\n",
    "StockPrices['IsSwing'] = StockPrices.apply(lambda x:clean_swing_trade(StockPrices, x), axis =1)\n"
   ]
  },
  {
   "cell_type": "code",
   "execution_count": null,
   "metadata": {},
   "outputs": [],
   "source": [
    "output_excel_file='./output/PETR4.Analisys.xlsx'\n",
    "StockPrices.to_excel(output_excel_file)"
   ]
  },
  {
   "cell_type": "code",
   "execution_count": null,
   "metadata": {},
   "outputs": [],
   "source": [
    "#StockPrices[StockPrices['SwingStrength'] > 13]\n",
    "StockPrices[StockPrices['IsSwing'] == 1].sort_values(by=['Date'], ascending=[0]).head(20)"
   ]
  },
  {
   "cell_type": "code",
   "execution_count": null,
   "metadata": {},
   "outputs": [],
   "source": [
    "fig = go.Figure(data=[go.Candlestick(x=StockPrices['CorrectedDate'],\n",
    "                open=StockPrices['Open'],\n",
    "                high=StockPrices['High'],\n",
    "                low=StockPrices['Low'],\n",
    "                close=StockPrices['Price'])])\n",
    "fig.update_layout(xaxis_rangeslider_visible=False)\n",
    "fig.show()"
   ]
  },
  {
   "cell_type": "code",
   "execution_count": null,
   "metadata": {},
   "outputs": [],
   "source": []
  }
 ],
 "metadata": {
  "kernelspec": {
   "display_name": "Python 3",
   "language": "python",
   "name": "python3"
  },
  "language_info": {
   "codemirror_mode": {
    "name": "ipython",
    "version": 3
   },
   "file_extension": ".py",
   "mimetype": "text/x-python",
   "name": "python",
   "nbconvert_exporter": "python",
   "pygments_lexer": "ipython3",
   "version": "3.7.4"
  }
 },
 "nbformat": 4,
 "nbformat_minor": 4
}
