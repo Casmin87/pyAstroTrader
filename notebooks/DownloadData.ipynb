{
 "cells": [
  {
   "cell_type": "code",
   "execution_count": null,
   "metadata": {},
   "outputs": [],
   "source": [
    "import os\n",
    "import datetime\n",
    "import pandas as pd\n",
    "import numpy as np\n",
    "import requests\n",
    "\n",
    "from IPython.display import display, HTML\n",
    "\n",
    "from settings import *"
   ]
  },
  {
   "cell_type": "code",
   "execution_count": null,
   "metadata": {},
   "outputs": [],
   "source": [
    "if 'ALPHAVANTAGE_KEY' not in os.environ:\n",
    "    raise ValueError('Need to define the API_KEY for the quotes')\n",
    "    \n",
    "ALPHAVANTAGE_KEY = os.environ['ALPHAVANTAGE_KEY']\n",
    "URL='https://www.alphavantage.co/query?function=TIME_SERIES_DAILY_ADJUSTED&symbol={}&outputsize=full&apikey={}'.format(ASSET_TO_CALCULATE,ALPHAVANTAGE_KEY)\n",
    "\n",
    "response = requests.get(URL)\n",
    "if response.status_code != 200:\n",
    "    raise ValueError('Error in getting the Data')\n",
    "    \n",
    "response = response.json()\n",
    "\n",
    "data_to_process = response['Time Series (Daily)']\n",
    "days = list(data_to_process.keys())"
   ]
  },
  {
   "cell_type": "code",
   "execution_count": null,
   "metadata": {},
   "outputs": [],
   "source": [
    "data_for_pandas = []\n",
    "for current_day in days:\n",
    "    current_day_date = datetime.datetime.strptime(current_day, '%Y-%m-%d')\n",
    "    if current_day_date < DATE_MINIMAL:\n",
    "        continue\n",
    "    data_for_pandas.append(\n",
    "        {\n",
    "            'Date': current_day.replace('-',''),\n",
    "            'Price': float(data_to_process[current_day]['4. close']),\n",
    "            'Open':  float(data_to_process[current_day]['1. open']),\n",
    "            'High':  float(data_to_process[current_day]['2. high']),\n",
    "            'Low':  float(data_to_process[current_day]['3. low']),\n",
    "            'Vol':  float(data_to_process[current_day]['6. volume'])\n",
    "        }\n",
    "    )\n",
    "data_for_pandas = sorted(data_for_pandas, key=lambda x: x['Date'], reverse=False)"
   ]
  },
  {
   "cell_type": "code",
   "execution_count": null,
   "metadata": {},
   "outputs": [],
   "source": [
    "df = pd.DataFrame(data_for_pandas)"
   ]
  },
  {
   "cell_type": "code",
   "execution_count": null,
   "metadata": {},
   "outputs": [],
   "source": [
    "output_csv_file='./input/{}_Daily.csv'.format(ASSET_TO_CALCULATE)\n",
    "df.to_csv(output_csv_file)"
   ]
  },
  {
   "cell_type": "code",
   "execution_count": null,
   "metadata": {},
   "outputs": [],
   "source": [
    "output_excel_file='./input/{}_Daily.xlsx'.format(ASSET_TO_CALCULATE)\n",
    "df.to_excel(output_excel_file)"
   ]
  },
  {
   "cell_type": "code",
   "execution_count": null,
   "metadata": {},
   "outputs": [],
   "source": []
  }
 ],
 "metadata": {
  "kernelspec": {
   "display_name": "Python 3",
   "language": "python",
   "name": "python3"
  },
  "language_info": {
   "codemirror_mode": {
    "name": "ipython",
    "version": 3
   },
   "file_extension": ".py",
   "mimetype": "text/x-python",
   "name": "python",
   "nbconvert_exporter": "python",
   "pygments_lexer": "ipython3",
   "version": "3.7.4"
  }
 },
 "nbformat": 4,
 "nbformat_minor": 4
}
